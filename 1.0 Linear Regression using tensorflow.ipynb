{
 "cells": [
  {
   "cell_type": "markdown",
   "id": "9b574cf5-a016-4e43-8be3-e2f303f131e9",
   "metadata": {},
   "source": [
    "# Linear Reg using Tensorflow"
   ]
  },
  {
   "cell_type": "code",
   "execution_count": 1,
   "id": "a327ff2f-7ad7-4d57-b32e-5224cd7a1043",
   "metadata": {},
   "outputs": [],
   "source": [
    "import tensorflow as tf\n",
    "import matplotlib.pyplot as plt"
   ]
  },
  {
   "cell_type": "code",
   "execution_count": 2,
   "id": "61eec7aa-fb43-4dcc-b33c-da4f98ebf90c",
   "metadata": {},
   "outputs": [],
   "source": [
    "import seaborn as sns\n",
    "import numpy as np"
   ]
  },
  {
   "cell_type": "markdown",
   "id": "c8f5359b-34e6-4fa4-8f17-aa73c425108c",
   "metadata": {},
   "source": [
    "### Generate Data"
   ]
  },
  {
   "cell_type": "code",
   "execution_count": 3,
   "id": "c8830884-377c-4550-b6b2-392f42e58d59",
   "metadata": {},
   "outputs": [],
   "source": [
    "n_samples = 15\n",
    "x = np.arange(n_samples)\n",
    "y = 4*x+ 10*np.random.rand(n_samples)"
   ]
  },
  {
   "cell_type": "code",
   "execution_count": 4,
   "id": "2448b4d7-5476-4106-8b6a-7256b44257e1",
   "metadata": {},
   "outputs": [
    {
     "data": {
      "text/plain": [
       "array([ 0,  1,  2,  3,  4,  5,  6,  7,  8,  9, 10, 11, 12, 13, 14])"
      ]
     },
     "execution_count": 4,
     "metadata": {},
     "output_type": "execute_result"
    }
   ],
   "source": [
    "x"
   ]
  },
  {
   "cell_type": "code",
   "execution_count": 5,
   "id": "8cae203b-2597-491a-ab1f-0c39cda21aea",
   "metadata": {},
   "outputs": [
    {
     "data": {
      "text/plain": [
       "array([ 8.70648141, 11.55077066, 10.14482983, 20.94002924, 22.61272336,\n",
       "       24.9795912 , 26.58598307, 32.4425313 , 37.55822837, 37.09003588,\n",
       "       41.44928085, 45.72493478, 53.99255667, 59.19034584, 56.85787089])"
      ]
     },
     "execution_count": 5,
     "metadata": {},
     "output_type": "execute_result"
    }
   ],
   "source": [
    "y"
   ]
  },
  {
   "cell_type": "code",
   "execution_count": 6,
   "id": "70d8244e-2977-4d29-8adb-7a487d7778a4",
   "metadata": {},
   "outputs": [
    {
     "data": {
      "image/png": "[encoded data removed]",
      "text/plain": [
       "<Figure size 432x288 with 1 Axes>"
      ]
     },
     "metadata": {
      "needs_background": "light"
     },
     "output_type": "display_data"
    }
   ],
   "source": [
    "plt.plot(x,y)\n",
    "plt.show()"
   ]
  },
  {
   "cell_type": "code",
   "execution_count": 11,
   "id": "196db541-aa89-4f1d-8028-f23bdf7d7867",
   "metadata": {},
   "outputs": [
    {
     "data": {
      "image/png": "[encoded data removed]",
      "text/plain": [
       "<Figure size 432x288 with 1 Axes>"
      ]
     },
     "metadata": {
      "needs_background": "light"
     },
     "output_type": "display_data"
    }
   ],
   "source": [
    "plt.scatter(x,y)\n",
    "plt.show()"
   ]
  },
  {
   "cell_type": "markdown",
   "id": "03ada4e1-44e3-4dc5-8680-4d693c6ee9be",
   "metadata": {},
   "source": [
    "# Build the model"
   ]
  },
  {
   "cell_type": "code",
   "execution_count": 12,
   "id": "dcf41fbf-2934-4925-b9a9-07bbc526c3ae",
   "metadata": {},
   "outputs": [],
   "source": [
    "w = tf.Variable(np.random.rand(), name='weight')\n",
    "b = tf.Variable(np.random.rand(), name='bias')"
   ]
  },
  {
   "cell_type": "code",
   "execution_count": 13,
   "id": "0abc80b9-b52d-4a4b-8a13-e4647016f308",
   "metadata": {},
   "outputs": [
    {
     "name": "stdout",
     "output_type": "stream",
     "text": [
      "0.9435588\n"
     ]
    }
   ],
   "source": [
    "print(w.numpy())"
   ]
  },
  {
   "cell_type": "code",
   "execution_count": 14,
   "id": "c28ef349-12ff-4cef-9be7-73cee9fb9d90",
   "metadata": {},
   "outputs": [
    {
     "name": "stdout",
     "output_type": "stream",
     "text": [
      "0.7766414\n"
     ]
    }
   ],
   "source": [
    "print(b.numpy())"
   ]
  },
  {
   "cell_type": "code",
   "execution_count": 15,
   "id": "e9c9e14c-864f-4fe9-8fd1-f779f51bccec",
   "metadata": {},
   "outputs": [
    {
     "data": {
      "image/png": "[encoded data removed]",
      "text/plain": [
       "<Figure size 432x288 with 1 Axes>"
      ]
     },
     "metadata": {
      "needs_background": "light"
     },
     "output_type": "display_data"
    }
   ],
   "source": [
    "plt.scatter(x,y)\n",
    "plt.plot(x, np.array(w*x+b), label='best fit line', color='r')\n",
    "plt.show()"
   ]
  },
  {
   "cell_type": "markdown",
   "id": "770369ef-fc91-4781-8922-e26decae5902",
   "metadata": {},
   "source": [
    "### This can be fixed this by changing weight and bias and we can perform backpropagation for that"
   ]
  },
  {
   "cell_type": "markdown",
   "id": "d14d5188-18e3-4bd4-917e-186dc527954a",
   "metadata": {},
   "source": [
    "# Define ANN terms"
   ]
  },
  {
   "cell_type": "code",
   "execution_count": null,
   "id": "27df89e4-7fc5-45ae-ad93-3dad32b0c534",
   "metadata": {},
   "outputs": [],
   "source": []
  }
 ],
 "metadata": {
  "kernelspec": {
   "display_name": "Python 3",
   "language": "python",
   "name": "python3"
  },
  "language_info": {
   "codemirror_mode": {
    "name": "ipython",
    "version": 3
   },
   "file_extension": ".py",
   "mimetype": "text/x-python",
   "name": "python",
   "nbconvert_exporter": "python",
   "pygments_lexer": "ipython3",
   "version": "3.8.2"
  }
 },
 "nbformat": 4,
 "nbformat_minor": 5
}
