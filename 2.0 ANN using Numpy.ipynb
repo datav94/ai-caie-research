{
 "cells": [
  {
   "cell_type": "markdown",
   "id": "e68983e6-2c2c-4a84-acab-e68178f3ec63",
   "metadata": {},
   "source": [
    "# ANN using Numpy"
   ]
  },
  {
   "cell_type": "code",
   "execution_count": 1,
   "id": "52ebfe89-4a81-4aaf-9379-3ad3cd9e05ce",
   "metadata": {},
   "outputs": [],
   "source": [
    "import numpy as np"
   ]
  },
  {
   "cell_type": "code",
   "execution_count": 23,
   "id": "050e052a-f114-4505-bf3c-b9cfc7672515",
   "metadata": {},
   "outputs": [],
   "source": [
    "x = np.array([[1,1],[0,1],[1,0],[0,0]])\n",
    "y = np.array([[0],[1],[1],[0]])\n",
    "\n",
    "num_inputs = 2\n",
    "num_hidden = 3\n",
    "num_output = 1"
   ]
  },
  {
   "cell_type": "code",
   "execution_count": 26,
   "id": "c1019c2e-66f8-4640-8e76-52c13dc30ca3",
   "metadata": {},
   "outputs": [
    {
     "data": {
      "text/plain": [
       "array([[ 0.54613308, -0.24569178,  2.118803  ],\n",
       "       [ 0.95291215, -0.41981873, -0.55253659]])"
      ]
     },
     "execution_count": 26,
     "metadata": {},
     "output_type": "execute_result"
    }
   ],
   "source": [
    "# random values for w_xh, b_h\n",
    "w_xh = np.random.randn(num_inputs, num_hidden) \n",
    "b_h = np.zeros((1, num_hidden))\n",
    "w_xh"
   ]
  },
  {
   "cell_type": "code",
   "execution_count": 27,
   "id": "ca6daa6b-16c7-4e26-b9e9-fd286865bf0b",
   "metadata": {},
   "outputs": [
    {
     "data": {
      "text/plain": [
       "array([[0., 0., 0.]])"
      ]
     },
     "execution_count": 27,
     "metadata": {},
     "output_type": "execute_result"
    }
   ],
   "source": [
    "b_h"
   ]
  },
  {
   "cell_type": "code",
   "execution_count": 29,
   "id": "f16f214a-9f62-4681-9003-07b13e1e716a",
   "metadata": {},
   "outputs": [
    {
     "data": {
      "text/plain": [
       "(array([[-0.39327199],\n",
       "        [-0.12002334],\n",
       "        [ 0.60166132]]),\n",
       " array([[0.]]))"
      ]
     },
     "execution_count": 29,
     "metadata": {},
     "output_type": "execute_result"
    }
   ],
   "source": [
    "# random values for w_hy, b_y\n",
    "\n",
    "w_hy = np.random.randn(num_hidden, num_output) \n",
    "b_y = np.zeros((1, num_output))\n",
    "w_hy, b_y"
   ]
  },
  {
   "cell_type": "code",
   "execution_count": 14,
   "id": "5ac1ee0b-9125-49cc-b0f7-1d362160d54c",
   "metadata": {},
   "outputs": [],
   "source": [
    "def sigmoid(x):\n",
    "    return 1/(1+np.exp(-x))"
   ]
  },
  {
   "cell_type": "code",
   "execution_count": 15,
   "id": "a4b6ea6d-dbac-4109-8cfd-74c3446bc8ad",
   "metadata": {},
   "outputs": [],
   "source": [
    "def forward_prop(x, w_xh, w_hy, b_h, b_y):\n",
    "    z1 = np.dot(x, w_xh) + b_h\n",
    "    a1 = sigmoid(z1)\n",
    "    z2 = np.dot(a1, w_hy) + b_y\n",
    "    y_hat = sigmoid(z2)\n",
    "    return z1, a1, z2, y_hat"
   ]
  },
  {
   "cell_type": "markdown",
   "id": "8a6a5cfc-0308-491e-9683-2076fefcc488",
   "metadata": {},
   "source": [
    "### here we shall try to solve the problem of XOR gate\n",
    "\n",
    "#### XOR - eXclusive OR gate\n",
    "\n",
    "|X1|X2|output|\n",
    "|--|--|------|\n",
    "|T|T|F|\n",
    "|F|T|T|\n",
    "|T|F|T|\n",
    "|F|F|F|"
   ]
  },
  {
   "cell_type": "markdown",
   "id": "c2947369-142e-4a6d-9259-4ea38d283092",
   "metadata": {},
   "source": [
    "#### if we use just one perceptron to perform an OR gate operation it performs fine but a single perceptron cannot perform XOR gate because the data for the perceptron is not gonna be linearly separable "
   ]
  },
  {
   "cell_type": "code",
   "execution_count": 16,
   "id": "dc86efde-8d91-4fa1-a485-97ced9daefd6",
   "metadata": {},
   "outputs": [],
   "source": [
    "def cost_function(y,y_hat):\n",
    "    return sum((y-y_hat)**2)/len(y)"
   ]
  },
  {
   "cell_type": "markdown",
   "id": "bfb7c9d1-7887-4b1d-8442-14b4c30d32fc",
   "metadata": {},
   "source": [
    "### Backpropagation"
   ]
  },
  {
   "cell_type": "code",
   "execution_count": 18,
   "id": "34cbdd44-c604-49b2-85c8-85e1683ae018",
   "metadata": {},
   "outputs": [],
   "source": [
    "def sigmoid_derivative(x):\n",
    "    return np.exp(-x)/((1+np.exp(-x))**2)\n",
    "\n",
    "# def sigmoid_derivative(x):\n",
    "#     return sigmoid(x)(1-sigmoid(x))"
   ]
  },
  {
   "cell_type": "code",
   "execution_count": 19,
   "id": "7c3a6b19-3f4b-4639-a6cc-4488d88c1e6a",
   "metadata": {},
   "outputs": [],
   "source": [
    "def backward_prop(z1,a1,z2,y_hat):\n",
    "    delta2 = np.multiply(-(y-y_hat), sigmoid_derivative(z2))\n",
    "    dL_dw_hy = np.dot(a1.T, delta2)\n",
    "    delta1 = np.dot(delta2, w_hy.T)*sigmoid_derivative(z1)\n",
    "    dL_dw_xh = np.dot(x.T, delta1)\n",
    "    return dL_dw_hy, dL_dw_xh"
   ]
  },
  {
   "cell_type": "code",
   "execution_count": 21,
   "id": "a414c991-a2bf-4c91-936f-0cb2516669d5",
   "metadata": {},
   "outputs": [],
   "source": [
    "alpha = 0.01\n",
    "num_iterations = 100000"
   ]
  },
  {
   "cell_type": "code",
   "execution_count": 30,
   "id": "793934c2-fd6b-428d-b5e2-69793af4c1a8",
   "metadata": {},
   "outputs": [],
   "source": [
    "cost = []\n",
    "for i in range(num_iterations):\n",
    "    z1, a1, z2, y_hat = forward_prop(x, w_xh, w_hy, b_h, b_y)\n",
    "    dL_dw_hy, dL_dw_xh = backward_prop(z1,a1,z2,y_hat)\n",
    "    \n",
    "    #update the weights\n",
    "    w_xh = w_xh - alpha * dL_dw_xh\n",
    "    w_hy = w_hy - alpha * dL_dw_hy\n",
    "    \n",
    "    #compute cost\n",
    "    c = cost_function(y, y_hat)\n",
    "    cost.append(c)"
   ]
  },
  {
   "cell_type": "code",
   "execution_count": 32,
   "id": "592e691c-2a02-4cd4-a0e7-6ba2b03b3414",
   "metadata": {},
   "outputs": [
    {
     "data": {
      "text/plain": [
       "Text(0, 0.5, 'Cost')"
      ]
     },
     "execution_count": 32,
     "metadata": {},
     "output_type": "execute_result"
    },
    {
     "data": {
      "image/png": "[encoded data removed]",
      "text/plain": [
       "<Figure size 432x288 with 1 Axes>"
      ]
     },
     "metadata": {
      "needs_background": "light"
     },
     "output_type": "display_data"
    }
   ],
   "source": [
    "import matplotlib.pyplot as plt\n",
    "\n",
    "plt.grid()\n",
    "plt.plot(range(num_iterations),cost)\n",
    "plt.title('Cost Function')\n",
    "plt.xlabel('Training Iterations')\n",
    "plt.ylabel('Cost')"
   ]
  },
  {
   "cell_type": "code",
   "execution_count": null,
   "id": "a5486c78-51cf-46ea-8065-618fff9b19ec",
   "metadata": {},
   "outputs": [],
   "source": []
  }
 ],
 "metadata": {
  "kernelspec": {
   "display_name": "Python 3",
   "language": "python",
   "name": "python3"
  },
  "language_info": {
   "codemirror_mode": {
    "name": "ipython",
    "version": 3
   },
   "file_extension": ".py",
   "mimetype": "text/x-python",
   "name": "python",
   "nbconvert_exporter": "python",
   "pygments_lexer": "ipython3",
   "version": "3.8.8"
  }
 },
 "nbformat": 4,
 "nbformat_minor": 5
}
